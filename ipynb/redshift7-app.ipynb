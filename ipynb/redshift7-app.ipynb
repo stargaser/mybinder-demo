{
 "cells": [
  {
   "cell_type": "markdown",
   "metadata": {},
   "source": [
    "# Firefly Voila Redshift 7 App"
   ]
  },
  {
   "cell_type": "code",
   "execution_count": null,
   "metadata": {},
   "outputs": [],
   "source": [
    "import warnings"
   ]
  },
  {
   "cell_type": "code",
   "execution_count": null,
   "metadata": {},
   "outputs": [],
   "source": [
    "with warnings.catch_warnings():\n",
    "    warnings.filterwarnings('ignore', '.*astropy.extern.six will be removed.*')\n",
    "    from astroquery.ned import Ned"
   ]
  },
  {
   "cell_type": "code",
   "execution_count": null,
   "metadata": {},
   "outputs": [],
   "source": [
    "candidates = Ned.query_refcode('2012MNRAS.426.2772B')"
   ]
  },
  {
   "cell_type": "code",
   "execution_count": null,
   "metadata": {},
   "outputs": [],
   "source": [
    "from IPython.display import IFrame, display"
   ]
  },
  {
   "cell_type": "code",
   "execution_count": null,
   "metadata": {},
   "outputs": [],
   "source": [
    "import ipywidgets as widgets"
   ]
  },
  {
   "cell_type": "code",
   "execution_count": null,
   "metadata": {},
   "outputs": [],
   "source": [
    "out = widgets.Output(layout={'border': '1px solid black'})"
   ]
  },
  {
   "cell_type": "code",
   "execution_count": null,
   "metadata": {},
   "outputs": [],
   "source": [
    "import firefly_client"
   ]
  },
  {
   "cell_type": "code",
   "execution_count": null,
   "metadata": {},
   "outputs": [],
   "source": [
    "import uuid\n",
    "fc = firefly_client.FireflyClient(url='https://lsst-demo.ncsa.illinois.edu/firefly/',\n",
    "                                  channel=uuid.uuid4().hex,\n",
    "                                  html_file='slate.html')"
   ]
  },
  {
   "cell_type": "code",
   "execution_count": null,
   "metadata": {},
   "outputs": [],
   "source": [
    "from astropy.table import Table"
   ]
  },
  {
   "cell_type": "code",
   "execution_count": null,
   "metadata": {},
   "outputs": [],
   "source": [
    "surveys = Table.read('https://raw.githubusercontent.com/Caltech-IPAC/firefly/dev/src/firefly/' +\n",
    "                     'java/edu/caltech/ipac/firefly/resources/irsa-image-master-table.csv',\n",
    "                     format='csv')"
   ]
  },
  {
   "cell_type": "code",
   "execution_count": null,
   "metadata": {},
   "outputs": [],
   "source": [
    "cosmos_surveys = surveys[surveys['missionId'] == 'COSMOS']"
   ]
  },
  {
   "cell_type": "code",
   "execution_count": null,
   "metadata": {},
   "outputs": [],
   "source": [
    "import numpy as np"
   ]
  },
  {
   "cell_type": "code",
   "execution_count": null,
   "metadata": {},
   "outputs": [],
   "source": [
    "from astropy.coordinates import SkyCoord\n",
    "import astropy.units as u\n",
    "import time"
   ]
  },
  {
   "cell_type": "code",
   "execution_count": null,
   "metadata": {},
   "outputs": [],
   "source": [
    "irsacats = Table.read('https://irsa.ipac.caltech.edu/cgi-bin/Gator/nph-scan?mode=ascii', format='ipac')\n",
    "projects = np.unique(irsacats['projectshort'].data)\n",
    "inx = irsacats['catname'] == 'gaia_dr2_source'"
   ]
  },
  {
   "cell_type": "code",
   "execution_count": null,
   "metadata": {},
   "outputs": [],
   "source": [
    "def visualize_candidate(candidate_number=1, size_in_arcsec=400):\n",
    "    fc.reinit_viewer()\n",
    "    tbl_index = candidates['No.'] == candidate_number\n",
    "    c = SkyCoord(ra=candidates['RA'][tbl_index].data[0]*u.deg,\n",
    "                 dec=candidates['DEC'][tbl_index].data[0]*u.deg)\n",
    "    target = '{};{};EQ_J2000'.format(c.ra.deg, c.dec.deg)\n",
    "    time.sleep(1)\n",
    "    fc.show_table(tbl_id='gaiaTbl', title='Gaia DR2 catalog',\n",
    "             target_search_info=dict(catalogProject=irsacats[inx]['projectshort'][0],\n",
    "                                     catalog=irsacats[inx]['catname'][0],\n",
    "                                     position=target,\n",
    "                                     SearchMethod='Box',\n",
    "                                     size=size_in_arcsec),\n",
    "             options=dict(removable=True, showUnits=False, showFilters=True),\n",
    "             meta=dict(DEFAULT_SYMBOL='CIRCLE', DEFAULT_COLOR='#FFDD11'))\n",
    "    rvstring = fc._create_rangevalues_standard(algorithm='asinh',\n",
    "                                               asinh_q_value=6,\n",
    "                                               upper_value=98.0)\n",
    "    time.sleep(2)\n",
    "    fc.show_fits(plot_id='z+', Title='z+', Type='SERVICE', Service='ATLAS',\n",
    "            SurveyKey='cosmos.cosmos_subaru', SurveyKeyBand='z+',\n",
    "            WorldPt=target, SizeInDeg=size_in_arcsec/3600,\n",
    "            ColorTable=1, plotGroupId=1, \n",
    "            ZoomType='ARCSEC_PER_SCREEN_PIX', ZoomArcsecPerScreenPix=0.3,\n",
    "            RangeValues=rvstring, OverlayPosition=False);\n",
    "    rvstring_Y = fc._create_rangevalues_standard(algorithm='asinh',\n",
    "                                             asinh_q_value=6,\n",
    "                                             lower_value=0.5,\n",
    "                                             upper_value=95.0)\n",
    "    #time.sleep(1)\n",
    "    fc.show_fits(plot_id='Y', Title='Y', Type='SERVICE', Service='ATLAS',\n",
    "            SurveyKey='cosmos.cosmos_ultravista', SurveyKeyBand='Y',\n",
    "            WorldPt=target, SizeInDeg=size_in_arcsec/3600,\n",
    "            ColorTable=1, plotGroupId=1, \n",
    "            ZoomType='ARCSEC_PER_SCREEN_PIX', ZoomArcsecPerScreenPix=0.3,\n",
    "            RangeValues=rvstring_Y, OverlayPosition=False);\n",
    "    #time.sleep(1)\n",
    "    fc.show_fits(plot_id='H', Title='H', Type='SERVICE', Service='ATLAS',\n",
    "            SurveyKey='cosmos.cosmos_ultravista', SurveyKeyBand='H',\n",
    "            WorldPt=target, SizeInDeg=size_in_arcsec/3600,\n",
    "            ColorTable=1, plotGroupId=1, \n",
    "            ZoomType='ARCSEC_PER_SCREEN_PIX', ZoomArcsecPerScreenPix=0.3,\n",
    "            RangeValues=rvstring, OverlayPosition=False);\n",
    "    #time.sleep(1)\n",
    "    fc.show_fits(plot_id='K', Title='K', Type='SERVICE', Service='ATLAS',\n",
    "            SurveyKey='cosmos.cosmos_ultravista', SurveyKeyBand='K',\n",
    "            WorldPt=target, SizeInDeg=size_in_arcsec/3600,\n",
    "            ColorTable=1, plotGroupId=1, \n",
    "            ZoomType='ARCSEC_PER_SCREEN_PIX', ZoomArcsecPerScreenPix=0.3,\n",
    "            RangeValues=rvstring, OverlayPosition=False);\n",
    "    #time.sleep(1)\n",
    "    rvstring_irac = fc._create_rangevalues_standard(algorithm='asinh',\n",
    "                                                asinh_q_value=6,\n",
    "                                                lower_value=0.2,\n",
    "                                                upper_value=95.0)\n",
    "    fc.show_fits(plot_id='IRAC1', Title='3.6um', Type='SERVICE', Service='ATLAS',\n",
    "            SurveyKey='cosmos.cosmos_irac', SurveyKeyBand='IRAC1',\n",
    "            WorldPt=target, SizeInDeg=size_in_arcsec/3600,            \n",
    "            ColorTable=1, plotGroupId=1, \n",
    "            ZoomType='ARCSEC_PER_SCREEN_PIX', ZoomArcsecPerScreenPix=0.3,\n",
    "            RangeValues=rvstring_irac, OverlayPosition=False);\n",
    "    #time.sleep(1)\n",
    "    fc.show_fits(plot_id='IRAC2', Title='4.5um', Type='SERVICE', Service='ATLAS',\n",
    "            SurveyKey='cosmos.cosmos_irac', SurveyKeyBand='IRAC1',\n",
    "            WorldPt=target, SizeInDeg=size_in_arcsec/3600,\n",
    "            ColorTable=1, plotGroupId=1, \n",
    "            ZoomType='ARCSEC_PER_SCREEN_PIX', ZoomArcsecPerScreenPix=0.3,\n",
    "            RangeValues=rvstring_irac, OverlayPosition=False);\n",
    "    fc.dispatch('ImagePlotCntlr.wcsMatch', payload=dict(#plotId='z+', \n",
    "                                                         matchType='Standard', \n",
    "                                                         lockMatch=True))"
   ]
  },
  {
   "cell_type": "code",
   "execution_count": null,
   "metadata": {},
   "outputs": [],
   "source": [
    "options = []\n",
    "for i in range(1, len(candidates)):\n",
    "    row = candidates[i]\n",
    "    optstring = ' '.join([row['Object Name'], str(row['RA']), str(row['DEC']), str(row['Redshift'])])\n",
    "    options.append((optstring, i))\n"
   ]
  },
  {
   "cell_type": "code",
   "execution_count": null,
   "metadata": {},
   "outputs": [],
   "source": [
    "w1 = widgets.Dropdown(\n",
    "         options=options, value=2, description='Candidate:', disabled=False)\n",
    "w2 = widgets.IntSlider(value=200, min=100, max=600, step=50)"
   ]
  },
  {
   "cell_type": "code",
   "execution_count": null,
   "metadata": {},
   "outputs": [],
   "source": [
    "from ipywidgets import interact"
   ]
  },
  {
   "cell_type": "code",
   "execution_count": null,
   "metadata": {},
   "outputs": [],
   "source": [
    "interact(visualize_candidate, candidate_number=w1, size_in_arcsec=w2);\n"
   ]
  },
  {
   "cell_type": "code",
   "execution_count": null,
   "metadata": {},
   "outputs": [],
   "source": [
    "with out:\n",
    "    display(IFrame(fc.get_firefly_url(), 1000, 700))"
   ]
  },
  {
   "cell_type": "code",
   "execution_count": null,
   "metadata": {},
   "outputs": [],
   "source": [
    "out"
   ]
  },
  {
   "cell_type": "code",
   "execution_count": null,
   "metadata": {},
   "outputs": [],
   "source": []
  }
 ],
 "metadata": {
  "kernelspec": {
   "display_name": "Python 3",
   "language": "python",
   "name": "python3"
  },
  "language_info": {
   "codemirror_mode": {
    "name": "ipython",
    "version": 3
   },
   "file_extension": ".py",
   "mimetype": "text/x-python",
   "name": "python",
   "nbconvert_exporter": "python",
   "pygments_lexer": "ipython3",
   "version": "3.7.4"
  }
 },
 "nbformat": 4,
 "nbformat_minor": 4
}
