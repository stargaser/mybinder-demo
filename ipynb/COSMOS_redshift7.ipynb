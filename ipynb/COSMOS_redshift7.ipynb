{
 "cells": [
  {
   "cell_type": "markdown",
   "metadata": {},
   "source": [
    "# Visualize high-redshift candidates in COSMOS using Firefly"
   ]
  },
  {
   "cell_type": "markdown",
   "metadata": {},
   "source": [
    "Notebook developed by D. Shupe and T. Goldina"
   ]
  },
  {
   "cell_type": "markdown",
   "metadata": {},
   "source": [
    "The purpose of this notebook is to visualize candidates from Figure 4 of [Bowler et al 2012](https://academic.oup.com/mnras/article/426/4/2772/1012488#17888103) that are the best high-z candidates, and to assess the astrometry by overlaying Gaia sources."
   ]
  },
  {
   "cell_type": "markdown",
   "metadata": {},
   "source": [
    "Let's gather the coordinates from Table 2 of Bowler et al. using astroquery and NED. Note that Vizier does not have the tables from this paper."
   ]
  },
  {
   "cell_type": "code",
   "execution_count": null,
   "metadata": {},
   "outputs": [],
   "source": [
    "from astroquery.ned import Ned"
   ]
  },
  {
   "cell_type": "code",
   "execution_count": null,
   "metadata": {},
   "outputs": [],
   "source": [
    "candidates = Ned.query_refcode('2012MNRAS.426.2772B')"
   ]
  },
  {
   "cell_type": "code",
   "execution_count": null,
   "metadata": {},
   "outputs": [],
   "source": [
    "candidates"
   ]
  },
  {
   "cell_type": "markdown",
   "metadata": {},
   "source": [
    "We'll use Firefly for retrieving images and visualizing them, and for overlaying Gaia stars.\n",
    "The goal is to assess by eye the astrometry."
   ]
  },
  {
   "cell_type": "code",
   "execution_count": null,
   "metadata": {},
   "outputs": [],
   "source": [
    "import firefly_client"
   ]
  },
  {
   "cell_type": "markdown",
   "metadata": {},
   "source": [
    "We'll verify which Firefly server we are using."
   ]
  },
  {
   "cell_type": "code",
   "execution_count": null,
   "metadata": {},
   "outputs": [],
   "source": [
    "import os"
   ]
  },
  {
   "cell_type": "code",
   "execution_count": null,
   "metadata": {},
   "outputs": [],
   "source": [
    "os.environ.get('FIREFLY_URL')"
   ]
  },
  {
   "cell_type": "markdown",
   "metadata": {},
   "source": [
    "Verify we are set up to use Slate"
   ]
  },
  {
   "cell_type": "code",
   "execution_count": null,
   "metadata": {},
   "outputs": [],
   "source": [
    "os.environ.get('FIREFLY_HTML')"
   ]
  },
  {
   "cell_type": "markdown",
   "metadata": {},
   "source": [
    "The next cell will open up a Firefly tab in Jupyterlab."
   ]
  },
  {
   "cell_type": "code",
   "execution_count": null,
   "metadata": {},
   "outputs": [],
   "source": [
    "fc = firefly_client.FireflyClient.make_lab_client()"
   ]
  },
  {
   "cell_type": "markdown",
   "metadata": {},
   "source": [
    "The surveys that Firefly can access directly are available on Github at https://github.com/Caltech-IPAC/firefly/blob/dev/src/firefly/java/edu/caltech/ipac/firefly/resources/irsa-image-master-table.csv"
   ]
  },
  {
   "cell_type": "markdown",
   "metadata": {},
   "source": [
    "Let's read those into an Astropy table."
   ]
  },
  {
   "cell_type": "code",
   "execution_count": null,
   "metadata": {},
   "outputs": [],
   "source": [
    "from astropy.table import Table"
   ]
  },
  {
   "cell_type": "code",
   "execution_count": null,
   "metadata": {},
   "outputs": [],
   "source": [
    "surveys = Table.read('https://raw.githubusercontent.com/Caltech-IPAC/firefly/dev/src/firefly/' +\n",
    "                     'java/edu/caltech/ipac/firefly/resources/irsa-image-master-table.csv',\n",
    "                     format='csv')"
   ]
  },
  {
   "cell_type": "code",
   "execution_count": null,
   "metadata": {},
   "outputs": [],
   "source": [
    "cosmos_surveys = surveys[surveys['missionId'] == 'COSMOS']\n",
    "cosmos_surveys[:5]"
   ]
  },
  {
   "cell_type": "markdown",
   "metadata": {},
   "source": [
    "Table 2 and Figure 4 of Bowler et al 2012 shows photometry in z', Y, J, H, K_s, and Spitzer 3.6um and 4.5um. We want the surveys that correspond to these. "
   ]
  },
  {
   "cell_type": "code",
   "execution_count": null,
   "metadata": {},
   "outputs": [],
   "source": [
    "import numpy as np\n",
    "np.unique(cosmos_surveys['wavebandId'].data)"
   ]
  },
  {
   "cell_type": "code",
   "execution_count": null,
   "metadata": {},
   "outputs": [],
   "source": [
    "cosmos_surveys[cosmos_surveys['wavebandId'] == 'z+']"
   ]
  },
  {
   "cell_type": "markdown",
   "metadata": {},
   "source": [
    "## Restart for another candidate (index) here"
   ]
  },
  {
   "cell_type": "markdown",
   "metadata": {},
   "source": [
    "Let's pick a candidate galaxy from our table."
   ]
  },
  {
   "cell_type": "code",
   "execution_count": null,
   "metadata": {},
   "outputs": [],
   "source": [
    "candidate_index = 3\n",
    "tbl_index = candidates['No.'] == 3"
   ]
  },
  {
   "cell_type": "code",
   "execution_count": null,
   "metadata": {},
   "outputs": [],
   "source": [
    "fc.reinit_viewer()"
   ]
  },
  {
   "cell_type": "code",
   "execution_count": null,
   "metadata": {},
   "outputs": [],
   "source": [
    "from astropy.coordinates import SkyCoord\n",
    "import astropy.units as u"
   ]
  },
  {
   "cell_type": "code",
   "execution_count": null,
   "metadata": {},
   "outputs": [],
   "source": [
    "c = SkyCoord(ra=candidates['RA'][tbl_index].data[0]*u.deg,\n",
    "             dec=candidates['DEC'][tbl_index].data[0]*u.deg)"
   ]
  },
  {
   "cell_type": "code",
   "execution_count": null,
   "metadata": {},
   "outputs": [],
   "source": [
    "target = '{};{};EQ_J2000'.format(c.ra.deg, c.dec.deg)"
   ]
  },
  {
   "cell_type": "code",
   "execution_count": null,
   "metadata": {},
   "outputs": [],
   "source": [
    "target"
   ]
  },
  {
   "cell_type": "markdown",
   "metadata": {},
   "source": [
    "Use the Firefly search processor for Gaia DR2.\n",
    "\n",
    "These are Gator queries. Let's show how we find the information."
   ]
  },
  {
   "cell_type": "code",
   "execution_count": null,
   "metadata": {},
   "outputs": [],
   "source": [
    "irsacats = Table.read('https://irsa.ipac.caltech.edu/cgi-bin/Gator/nph-scan?mode=ascii', format='ipac')\n",
    "projects = np.unique(irsacats['projectshort'].data)\n",
    "projects"
   ]
  },
  {
   "cell_type": "code",
   "execution_count": null,
   "metadata": {},
   "outputs": [],
   "source": [
    "irsacats[irsacats['projectshort'] == 'Gaia'][:5]"
   ]
  },
  {
   "cell_type": "code",
   "execution_count": null,
   "metadata": {},
   "outputs": [],
   "source": [
    "inx = irsacats['catname'] == 'gaia_dr2_source'"
   ]
  },
  {
   "cell_type": "code",
   "execution_count": null,
   "metadata": {},
   "outputs": [],
   "source": [
    "size_in_arcsec = 400.0"
   ]
  },
  {
   "cell_type": "code",
   "execution_count": null,
   "metadata": {},
   "outputs": [],
   "source": [
    "fc.show_table(tbl_id='gaiaTbl', title='Gaia DR2 catalog',\n",
    "             target_search_info=dict(catalogProject=irsacats[inx]['projectshort'][0],\n",
    "                                     catalog=irsacats[inx]['catname'][0],\n",
    "                                     position=target,\n",
    "                                     SearchMethod='Box',\n",
    "                                     size=size_in_arcsec),\n",
    "             options=dict(removable=True, showUnits=False, showFilters=True))"
   ]
  },
  {
   "cell_type": "markdown",
   "metadata": {},
   "source": [
    "The next cell lists some information on what we need to provide to Firefly's image search processors"
   ]
  },
  {
   "cell_type": "raw",
   "metadata": {},
   "source": [
    "Type: \"SERVICE” ,\n",
    "Service: “ATLAS”,\n",
    "SurveyKey: surveyKey, \n",
    "SurveyKeyBand: surveyKeyBand,\n",
    "Title: title,\n",
    "filter: \"file_type='science’” // science will remove the unc and cov files, but not the median_mosaic.fits files\n",
    "\n",
    "\n",
    "These should be provided in addition to target params, for example:\n",
    "\n",
    "WorldPt: \"150.18075000000002;2.6310555555555557;EQ_J2000”\n",
    "SizeInDeg: “0.1111111111111111\"\n"
   ]
  },
  {
   "cell_type": "code",
   "execution_count": null,
   "metadata": {},
   "outputs": [],
   "source": [
    "rvstring = fc._create_rangevalues_standard(algorithm='asinh',\n",
    "                                           asinh_q_value=6,\n",
    "                                          upper_value=98.0)"
   ]
  },
  {
   "cell_type": "code",
   "execution_count": null,
   "metadata": {},
   "outputs": [],
   "source": [
    "fc.show_fits(plot_id='z+', Title='z+', Type='SERVICE', Service='ATLAS',\n",
    "            SurveyKey='cosmos.cosmos_subaru', SurveyKeyBand='z+',\n",
    "            WorldPt=target, SizeInDeg=size_in_arcsec/3600,\n",
    "            ColorTable=1, plotGroupId=1, \n",
    "            ZoomType='ARCSEC_PER_SCREEN_PIX', ZoomArcsecPerScreenPix=0.3,\n",
    "            RangeValues=rvstring, OverlayPosition=False);"
   ]
  },
  {
   "cell_type": "code",
   "execution_count": null,
   "metadata": {},
   "outputs": [],
   "source": [
    "rvstring_Y = fc._create_rangevalues_standard(algorithm='asinh',\n",
    "                                             asinh_q_value=6,\n",
    "                                             lower_value=0.5,\n",
    "                                             upper_value=95.0)"
   ]
  },
  {
   "cell_type": "code",
   "execution_count": null,
   "metadata": {},
   "outputs": [],
   "source": [
    "fc.show_fits(plot_id='Y', Title='Y', Type='SERVICE', Service='ATLAS',\n",
    "            SurveyKey='cosmos.cosmos_ultravista', SurveyKeyBand='Y',\n",
    "            WorldPt=target, SizeInDeg=size_in_arcsec/3600,\n",
    "            ColorTable=1, plotGroupId=1, \n",
    "            ZoomType='ARCSEC_PER_SCREEN_PIX', ZoomArcsecPerScreenPix=0.3,\n",
    "            RangeValues=rvstring_Y, OverlayPosition=False);"
   ]
  },
  {
   "cell_type": "code",
   "execution_count": null,
   "metadata": {},
   "outputs": [],
   "source": [
    "fc.show_fits(plot_id='H', Title='H', Type='SERVICE', Service='ATLAS',\n",
    "            SurveyKey='cosmos.cosmos_ultravista', SurveyKeyBand='H',\n",
    "            WorldPt=target, SizeInDeg=size_in_arcsec/3600,\n",
    "            ColorTable=1, plotGroupId=1, \n",
    "            ZoomType='ARCSEC_PER_SCREEN_PIX', ZoomArcsecPerScreenPix=0.3,\n",
    "            RangeValues=rvstring, OverlayPosition=False);"
   ]
  },
  {
   "cell_type": "code",
   "execution_count": null,
   "metadata": {},
   "outputs": [],
   "source": [
    "fc.show_fits(plot_id='K', Title='K', Type='SERVICE', Service='ATLAS',\n",
    "            SurveyKey='cosmos.cosmos_ultravista', SurveyKeyBand='K',\n",
    "            WorldPt=target, SizeInDeg=size_in_arcsec/3600,\n",
    "            ColorTable=1, plotGroupId=1, \n",
    "            ZoomType='ARCSEC_PER_SCREEN_PIX', ZoomArcsecPerScreenPix=0.3,\n",
    "            RangeValues=rvstring, OverlayPosition=False);"
   ]
  },
  {
   "cell_type": "code",
   "execution_count": null,
   "metadata": {},
   "outputs": [],
   "source": [
    "rvstring_irac = fc._create_rangevalues_standard(algorithm='asinh',\n",
    "                                                asinh_q_value=6,\n",
    "                                                lower_value=0.2,\n",
    "                                                upper_value=95.0)"
   ]
  },
  {
   "cell_type": "code",
   "execution_count": null,
   "metadata": {},
   "outputs": [],
   "source": [
    "fc.show_fits(plot_id='IRAC1', Title='3.6um', Type='SERVICE', Service='ATLAS',\n",
    "            SurveyKey='cosmos.cosmos_irac', SurveyKeyBand='IRAC1',\n",
    "            WorldPt=target, SizeInDeg=size_in_arcsec/3600,            \n",
    "            ColorTable=1, plotGroupId=1, \n",
    "            ZoomType='ARCSEC_PER_SCREEN_PIX', ZoomArcsecPerScreenPix=0.3,\n",
    "            RangeValues=rvstring_irac, OverlayPosition=False);"
   ]
  },
  {
   "cell_type": "code",
   "execution_count": null,
   "metadata": {},
   "outputs": [],
   "source": [
    "fc.show_fits(plot_id='IRAC2', Title='4.5um', Type='SERVICE', Service='ATLAS',\n",
    "            SurveyKey='cosmos.cosmos_irac', SurveyKeyBand='IRAC1',\n",
    "            WorldPt=target, SizeInDeg=size_in_arcsec/3600,\n",
    "            ColorTable=1, plotGroupId=1, \n",
    "            ZoomType='ARCSEC_PER_SCREEN_PIX', ZoomArcsecPerScreenPix=0.3,\n",
    "            RangeValues=rvstring_irac, OverlayPosition=False);"
   ]
  },
  {
   "cell_type": "markdown",
   "metadata": {},
   "source": [
    "In the Firefly tab, lock all the displays and turn on WCS match. "
   ]
  },
  {
   "cell_type": "code",
   "execution_count": null,
   "metadata": {},
   "outputs": [],
   "source": []
  }
 ],
 "metadata": {
  "kernelspec": {
   "display_name": "Python 3",
   "language": "python",
   "name": "python3"
  },
  "language_info": {
   "codemirror_mode": {
    "name": "ipython",
    "version": 3
   },
   "file_extension": ".py",
   "mimetype": "text/x-python",
   "name": "python",
   "nbconvert_exporter": "python",
   "pygments_lexer": "ipython3",
   "version": "3.7.4"
  }
 },
 "nbformat": 4,
 "nbformat_minor": 4
}
